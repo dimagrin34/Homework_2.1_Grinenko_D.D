{
 "cells": [
  {
   "cell_type": "markdown",
   "metadata": {},
   "source": [
    "# Задание 1"
   ]
  },
  {
   "cell_type": "markdown",
   "metadata": {},
   "source": [
    "_Задайте переменную_ "
   ]
  },
  {
   "cell_type": "code",
   "execution_count": null,
   "metadata": {},
   "outputs": [],
   "source": [
    "world = input()  # Задайте переменную \"test\" или \"testing\""
   ]
  },
  {
   "cell_type": "code",
   "execution_count": 14,
   "metadata": {},
   "outputs": [
    {
     "name": "stdout",
     "output_type": "stream",
     "text": [
      "es\n"
     ]
    }
   ],
   "source": [
    "if len(world) % 2 == 0:\n",
    "    print(world[len(world) // 2 - 1], world[len(world) // 2], sep=\"\")\n",
    "else:\n",
    "    print(world[len(world) // 2])"
   ]
  },
  {
   "cell_type": "markdown",
   "metadata": {},
   "source": [
    "# Задание 2"
   ]
  },
  {
   "cell_type": "markdown",
   "metadata": {},
   "source": [
    "_Задайте переменную_ "
   ]
  },
  {
   "cell_type": "code",
   "execution_count": 15,
   "metadata": {},
   "outputs": [],
   "source": [
    "boys = [\n",
    "    \"Peter\",\n",
    "    \"Alex\",\n",
    "    \"John\",\n",
    "    \"Arthur\",\n",
    "    \"Richard\",\n",
    "]  # Задайте переменную \"['Peter', 'Alex', 'John', 'Arthur', 'Richard']\" или \" ['Peter', 'Alex', 'John', 'Arthur', 'Richard', 'Michael']\"\n",
    "girls = [\n",
    "    \"Kate\",\n",
    "    \"Liza\",\n",
    "    \"Kira\",\n",
    "    \"Emma\",\n",
    "    \"Trisha\",\n",
    "]  # Задайте переменную \"['Kate', 'Liza', 'Kira', 'Emma', 'Trisha']\" или \"['Kate', 'Liza', 'Kira', 'Emma', 'Trisha']\""
   ]
  },
  {
   "cell_type": "code",
   "execution_count": 16,
   "metadata": {},
   "outputs": [
    {
     "name": "stdout",
     "output_type": "stream",
     "text": [
      "Alex и Emma\n",
      "Arthur и Kate\n",
      "John и Kira\n",
      "Peter и Liza\n",
      "Richard и Trisha\n"
     ]
    }
   ],
   "source": [
    "if len(boys) == len(girls):\n",
    "    for boy, girl in zip(sorted(boys), sorted(girls)):\n",
    "        print(boy, girl, sep=\" и \")\n",
    "else:\n",
    "    print(\"Внимание, кто-то может остаться без пары!\")\n"
   ]
  }
 ],
 "metadata": {
  "kernelspec": {
   "display_name": "Python 3",
   "language": "python",
   "name": "python3"
  },
  "language_info": {
   "codemirror_mode": {
    "name": "ipython",
    "version": 3
   },
   "file_extension": ".py",
   "mimetype": "text/x-python",
   "name": "python",
   "nbconvert_exporter": "python",
   "pygments_lexer": "ipython3",
   "version": "3.13.0"
  }
 },
 "nbformat": 4,
 "nbformat_minor": 2
}
